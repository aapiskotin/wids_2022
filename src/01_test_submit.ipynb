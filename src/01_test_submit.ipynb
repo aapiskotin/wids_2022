{
 "cells": [
  {
   "cell_type": "markdown",
   "metadata": {
    "collapsed": true,
    "pycharm": {
     "name": "#%% md\n"
    }
   },
   "source": [
    "# Definitions"
   ]
  },
  {
   "cell_type": "code",
   "execution_count": 1,
   "outputs": [],
   "source": [
    "import pandas as pd\n",
    "import numpy as np\n",
    "import matplotlib.pyplot as plt\n",
    "from scipy import stats\n",
    "\n",
    "from const import data_path, target_name, id_name, random_seed"
   ],
   "metadata": {
    "collapsed": false,
    "pycharm": {
     "name": "#%%\n"
    }
   }
  },
  {
   "cell_type": "markdown",
   "source": [
    "# Data"
   ],
   "metadata": {
    "collapsed": false,
    "pycharm": {
     "name": "#%% md\n"
    }
   }
  },
  {
   "cell_type": "code",
   "execution_count": 2,
   "outputs": [
    {
     "data": {
      "text/plain": "   Year_Factor State_Factor building_class  \\\n0            1      State_1     Commercial   \n1            1      State_1     Commercial   \n2            1      State_1     Commercial   \n3            1      State_1     Commercial   \n4            1      State_1     Commercial   \n\n                               facility_type  floor_area  year_built  \\\n0               Grocery_store_or_food_market     61242.0      1942.0   \n1  Warehouse_Distribution_or_Shipping_center    274000.0      1955.0   \n2                       Retail_Enclosed_mall    280025.0      1951.0   \n3                  Education_Other_classroom     55325.0      1980.0   \n4                  Warehouse_Nonrefrigerated     66000.0      1985.0   \n\n   energy_star_rating  ELEVATION  january_min_temp  january_avg_temp  ...  \\\n0                11.0        2.4                36              50.5  ...   \n1                45.0        1.8                36              50.5  ...   \n2                97.0        1.8                36              50.5  ...   \n3                46.0        1.8                36              50.5  ...   \n4               100.0        2.4                36              50.5  ...   \n\n   days_above_80F  days_above_90F  days_above_100F  days_above_110F  \\\n0              14               0                0                0   \n1              14               0                0                0   \n2              14               0                0                0   \n3              14               0                0                0   \n4              14               0                0                0   \n\n   direction_max_wind_speed  direction_peak_wind_speed  max_wind_speed  \\\n0                       1.0                        1.0             1.0   \n1                       1.0                        NaN             1.0   \n2                       1.0                        NaN             1.0   \n3                       1.0                        NaN             1.0   \n4                       1.0                        1.0             1.0   \n\n   days_with_fog    site_eui  id  \n0            NaN  248.682615   0  \n1           12.0   26.500150   1  \n2           12.0   24.693619   2  \n3           12.0   48.406926   3  \n4            NaN    3.899395   4  \n\n[5 rows x 64 columns]",
      "text/html": "<div>\n<style scoped>\n    .dataframe tbody tr th:only-of-type {\n        vertical-align: middle;\n    }\n\n    .dataframe tbody tr th {\n        vertical-align: top;\n    }\n\n    .dataframe thead th {\n        text-align: right;\n    }\n</style>\n<table border=\"1\" class=\"dataframe\">\n  <thead>\n    <tr style=\"text-align: right;\">\n      <th></th>\n      <th>Year_Factor</th>\n      <th>State_Factor</th>\n      <th>building_class</th>\n      <th>facility_type</th>\n      <th>floor_area</th>\n      <th>year_built</th>\n      <th>energy_star_rating</th>\n      <th>ELEVATION</th>\n      <th>january_min_temp</th>\n      <th>january_avg_temp</th>\n      <th>...</th>\n      <th>days_above_80F</th>\n      <th>days_above_90F</th>\n      <th>days_above_100F</th>\n      <th>days_above_110F</th>\n      <th>direction_max_wind_speed</th>\n      <th>direction_peak_wind_speed</th>\n      <th>max_wind_speed</th>\n      <th>days_with_fog</th>\n      <th>site_eui</th>\n      <th>id</th>\n    </tr>\n  </thead>\n  <tbody>\n    <tr>\n      <th>0</th>\n      <td>1</td>\n      <td>State_1</td>\n      <td>Commercial</td>\n      <td>Grocery_store_or_food_market</td>\n      <td>61242.0</td>\n      <td>1942.0</td>\n      <td>11.0</td>\n      <td>2.4</td>\n      <td>36</td>\n      <td>50.5</td>\n      <td>...</td>\n      <td>14</td>\n      <td>0</td>\n      <td>0</td>\n      <td>0</td>\n      <td>1.0</td>\n      <td>1.0</td>\n      <td>1.0</td>\n      <td>NaN</td>\n      <td>248.682615</td>\n      <td>0</td>\n    </tr>\n    <tr>\n      <th>1</th>\n      <td>1</td>\n      <td>State_1</td>\n      <td>Commercial</td>\n      <td>Warehouse_Distribution_or_Shipping_center</td>\n      <td>274000.0</td>\n      <td>1955.0</td>\n      <td>45.0</td>\n      <td>1.8</td>\n      <td>36</td>\n      <td>50.5</td>\n      <td>...</td>\n      <td>14</td>\n      <td>0</td>\n      <td>0</td>\n      <td>0</td>\n      <td>1.0</td>\n      <td>NaN</td>\n      <td>1.0</td>\n      <td>12.0</td>\n      <td>26.500150</td>\n      <td>1</td>\n    </tr>\n    <tr>\n      <th>2</th>\n      <td>1</td>\n      <td>State_1</td>\n      <td>Commercial</td>\n      <td>Retail_Enclosed_mall</td>\n      <td>280025.0</td>\n      <td>1951.0</td>\n      <td>97.0</td>\n      <td>1.8</td>\n      <td>36</td>\n      <td>50.5</td>\n      <td>...</td>\n      <td>14</td>\n      <td>0</td>\n      <td>0</td>\n      <td>0</td>\n      <td>1.0</td>\n      <td>NaN</td>\n      <td>1.0</td>\n      <td>12.0</td>\n      <td>24.693619</td>\n      <td>2</td>\n    </tr>\n    <tr>\n      <th>3</th>\n      <td>1</td>\n      <td>State_1</td>\n      <td>Commercial</td>\n      <td>Education_Other_classroom</td>\n      <td>55325.0</td>\n      <td>1980.0</td>\n      <td>46.0</td>\n      <td>1.8</td>\n      <td>36</td>\n      <td>50.5</td>\n      <td>...</td>\n      <td>14</td>\n      <td>0</td>\n      <td>0</td>\n      <td>0</td>\n      <td>1.0</td>\n      <td>NaN</td>\n      <td>1.0</td>\n      <td>12.0</td>\n      <td>48.406926</td>\n      <td>3</td>\n    </tr>\n    <tr>\n      <th>4</th>\n      <td>1</td>\n      <td>State_1</td>\n      <td>Commercial</td>\n      <td>Warehouse_Nonrefrigerated</td>\n      <td>66000.0</td>\n      <td>1985.0</td>\n      <td>100.0</td>\n      <td>2.4</td>\n      <td>36</td>\n      <td>50.5</td>\n      <td>...</td>\n      <td>14</td>\n      <td>0</td>\n      <td>0</td>\n      <td>0</td>\n      <td>1.0</td>\n      <td>1.0</td>\n      <td>1.0</td>\n      <td>NaN</td>\n      <td>3.899395</td>\n      <td>4</td>\n    </tr>\n  </tbody>\n</table>\n<p>5 rows × 64 columns</p>\n</div>"
     },
     "execution_count": 2,
     "metadata": {},
     "output_type": "execute_result"
    }
   ],
   "source": [
    "train = pd.read_csv(data_path.joinpath('train.csv'))\n",
    "train.head()"
   ],
   "metadata": {
    "collapsed": false,
    "pycharm": {
     "name": "#%%\n"
    }
   }
  },
  {
   "cell_type": "code",
   "execution_count": 3,
   "outputs": [
    {
     "data": {
      "text/plain": "(75757, 64)"
     },
     "execution_count": 3,
     "metadata": {},
     "output_type": "execute_result"
    }
   ],
   "source": [
    "train.shape"
   ],
   "metadata": {
    "collapsed": false,
    "pycharm": {
     "name": "#%%\n"
    }
   }
  },
  {
   "cell_type": "code",
   "execution_count": 4,
   "outputs": [
    {
     "data": {
      "text/plain": "   Year_Factor State_Factor building_class                 facility_type  \\\n0            7      State_1     Commercial  Grocery_store_or_food_market   \n1            7      State_1     Commercial  Grocery_store_or_food_market   \n2            7      State_1     Commercial  Grocery_store_or_food_market   \n3            7      State_1     Commercial  Grocery_store_or_food_market   \n4            7      State_1     Commercial  Grocery_store_or_food_market   \n\n   floor_area  year_built  energy_star_rating  ELEVATION  january_min_temp  \\\n0     28484.0      1994.0                37.0        2.4                38   \n1     21906.0      1961.0                55.0       45.7                38   \n2     16138.0      1950.0                 1.0       59.1                38   \n3     97422.0      1971.0                34.0       35.4                38   \n4     61242.0      1942.0                35.0        1.8                38   \n\n   january_avg_temp  ...  days_below_0F  days_above_80F  days_above_90F  \\\n0         50.596774  ...              0              29               5   \n1         50.596774  ...              0              29               5   \n2         50.596774  ...              0              29               5   \n3         50.596774  ...              0              29               5   \n4         50.596774  ...              0              29               5   \n\n   days_above_100F  days_above_110F  direction_max_wind_speed  \\\n0                2                0                       NaN   \n1                2                0                       NaN   \n2                2                0                       NaN   \n3                2                0                       NaN   \n4                2                0                     340.0   \n\n   direction_peak_wind_speed  max_wind_speed  days_with_fog     id  \n0                        NaN             NaN            NaN  75757  \n1                        NaN             NaN            NaN  75758  \n2                        NaN             NaN            NaN  75759  \n3                        NaN             NaN            NaN  75760  \n4                      330.0            22.8          126.0  75761  \n\n[5 rows x 63 columns]",
      "text/html": "<div>\n<style scoped>\n    .dataframe tbody tr th:only-of-type {\n        vertical-align: middle;\n    }\n\n    .dataframe tbody tr th {\n        vertical-align: top;\n    }\n\n    .dataframe thead th {\n        text-align: right;\n    }\n</style>\n<table border=\"1\" class=\"dataframe\">\n  <thead>\n    <tr style=\"text-align: right;\">\n      <th></th>\n      <th>Year_Factor</th>\n      <th>State_Factor</th>\n      <th>building_class</th>\n      <th>facility_type</th>\n      <th>floor_area</th>\n      <th>year_built</th>\n      <th>energy_star_rating</th>\n      <th>ELEVATION</th>\n      <th>january_min_temp</th>\n      <th>january_avg_temp</th>\n      <th>...</th>\n      <th>days_below_0F</th>\n      <th>days_above_80F</th>\n      <th>days_above_90F</th>\n      <th>days_above_100F</th>\n      <th>days_above_110F</th>\n      <th>direction_max_wind_speed</th>\n      <th>direction_peak_wind_speed</th>\n      <th>max_wind_speed</th>\n      <th>days_with_fog</th>\n      <th>id</th>\n    </tr>\n  </thead>\n  <tbody>\n    <tr>\n      <th>0</th>\n      <td>7</td>\n      <td>State_1</td>\n      <td>Commercial</td>\n      <td>Grocery_store_or_food_market</td>\n      <td>28484.0</td>\n      <td>1994.0</td>\n      <td>37.0</td>\n      <td>2.4</td>\n      <td>38</td>\n      <td>50.596774</td>\n      <td>...</td>\n      <td>0</td>\n      <td>29</td>\n      <td>5</td>\n      <td>2</td>\n      <td>0</td>\n      <td>NaN</td>\n      <td>NaN</td>\n      <td>NaN</td>\n      <td>NaN</td>\n      <td>75757</td>\n    </tr>\n    <tr>\n      <th>1</th>\n      <td>7</td>\n      <td>State_1</td>\n      <td>Commercial</td>\n      <td>Grocery_store_or_food_market</td>\n      <td>21906.0</td>\n      <td>1961.0</td>\n      <td>55.0</td>\n      <td>45.7</td>\n      <td>38</td>\n      <td>50.596774</td>\n      <td>...</td>\n      <td>0</td>\n      <td>29</td>\n      <td>5</td>\n      <td>2</td>\n      <td>0</td>\n      <td>NaN</td>\n      <td>NaN</td>\n      <td>NaN</td>\n      <td>NaN</td>\n      <td>75758</td>\n    </tr>\n    <tr>\n      <th>2</th>\n      <td>7</td>\n      <td>State_1</td>\n      <td>Commercial</td>\n      <td>Grocery_store_or_food_market</td>\n      <td>16138.0</td>\n      <td>1950.0</td>\n      <td>1.0</td>\n      <td>59.1</td>\n      <td>38</td>\n      <td>50.596774</td>\n      <td>...</td>\n      <td>0</td>\n      <td>29</td>\n      <td>5</td>\n      <td>2</td>\n      <td>0</td>\n      <td>NaN</td>\n      <td>NaN</td>\n      <td>NaN</td>\n      <td>NaN</td>\n      <td>75759</td>\n    </tr>\n    <tr>\n      <th>3</th>\n      <td>7</td>\n      <td>State_1</td>\n      <td>Commercial</td>\n      <td>Grocery_store_or_food_market</td>\n      <td>97422.0</td>\n      <td>1971.0</td>\n      <td>34.0</td>\n      <td>35.4</td>\n      <td>38</td>\n      <td>50.596774</td>\n      <td>...</td>\n      <td>0</td>\n      <td>29</td>\n      <td>5</td>\n      <td>2</td>\n      <td>0</td>\n      <td>NaN</td>\n      <td>NaN</td>\n      <td>NaN</td>\n      <td>NaN</td>\n      <td>75760</td>\n    </tr>\n    <tr>\n      <th>4</th>\n      <td>7</td>\n      <td>State_1</td>\n      <td>Commercial</td>\n      <td>Grocery_store_or_food_market</td>\n      <td>61242.0</td>\n      <td>1942.0</td>\n      <td>35.0</td>\n      <td>1.8</td>\n      <td>38</td>\n      <td>50.596774</td>\n      <td>...</td>\n      <td>0</td>\n      <td>29</td>\n      <td>5</td>\n      <td>2</td>\n      <td>0</td>\n      <td>340.0</td>\n      <td>330.0</td>\n      <td>22.8</td>\n      <td>126.0</td>\n      <td>75761</td>\n    </tr>\n  </tbody>\n</table>\n<p>5 rows × 63 columns</p>\n</div>"
     },
     "execution_count": 4,
     "metadata": {},
     "output_type": "execute_result"
    }
   ],
   "source": [
    "test = pd.read_csv(data_path.joinpath('test.csv'))\n",
    "test.head()"
   ],
   "metadata": {
    "collapsed": false,
    "pycharm": {
     "name": "#%%\n"
    }
   }
  },
  {
   "cell_type": "code",
   "execution_count": 5,
   "outputs": [
    {
     "data": {
      "text/plain": "(9705, 63)"
     },
     "execution_count": 5,
     "metadata": {},
     "output_type": "execute_result"
    }
   ],
   "source": [
    "test.shape"
   ],
   "metadata": {
    "collapsed": false,
    "pycharm": {
     "name": "#%%\n"
    }
   }
  },
  {
   "cell_type": "markdown",
   "source": [
    "# Target distribution"
   ],
   "metadata": {
    "collapsed": false,
    "pycharm": {
     "name": "#%% md\n"
    }
   }
  },
  {
   "cell_type": "code",
   "execution_count": 6,
   "outputs": [
    {
     "data": {
      "text/plain": "(array([5.8861e+04, 1.4647e+04, 1.4560e+03, 4.3700e+02, 1.4800e+02,\n        7.5000e+01, 5.6000e+01, 3.6000e+01, 2.1000e+01, 2.0000e+01]),\n array([  1.0011693 , 100.68766439, 200.37415948, 300.06065457,\n        399.74714966, 499.43364475, 599.12013984, 698.80663493,\n        798.49313002, 898.17962511, 997.8661202 ]),\n <BarContainer object of 10 artists>)"
     },
     "execution_count": 6,
     "metadata": {},
     "output_type": "execute_result"
    },
    {
     "data": {
      "text/plain": "<Figure size 432x288 with 1 Axes>",
      "image/png": "[encoded data removed]"
     },
     "metadata": {
      "needs_background": "light"
     },
     "output_type": "display_data"
    }
   ],
   "source": [
    "plt.hist(train.site_eui)"
   ],
   "metadata": {
    "collapsed": false,
    "pycharm": {
     "name": "#%%\n"
    }
   }
  },
  {
   "cell_type": "code",
   "execution_count": 7,
   "outputs": [
    {
     "data": {
      "text/plain": "(array([  101.,   302.,   622.,  1517.,  5786., 17356., 42098.,  6674.,\n         1094.,   207.]),\n array([1.16861890e-03, 6.91613669e-01, 1.38205872e+00, 2.07250377e+00,\n        2.76294882e+00, 3.45339387e+00, 4.14383892e+00, 4.83428397e+00,\n        5.52472902e+00, 6.21517407e+00, 6.90561912e+00]),\n <BarContainer object of 10 artists>)"
     },
     "execution_count": 7,
     "metadata": {},
     "output_type": "execute_result"
    },
    {
     "data": {
      "text/plain": "<Figure size 432x288 with 1 Axes>",
      "image/png": "[encoded data removed]"
     },
     "metadata": {
      "needs_background": "light"
     },
     "output_type": "display_data"
    }
   ],
   "source": [
    "plt.hist(np.log(train.site_eui))"
   ],
   "metadata": {
    "collapsed": false,
    "pycharm": {
     "name": "#%%\n"
    }
   }
  },
  {
   "cell_type": "code",
   "execution_count": 8,
   "outputs": [],
   "source": [
    "log_target = np.log(train.site_eui)"
   ],
   "metadata": {
    "collapsed": false,
    "pycharm": {
     "name": "#%%\n"
    }
   }
  },
  {
   "cell_type": "code",
   "execution_count": 9,
   "outputs": [
    {
     "data": {
      "text/plain": "4.222042763518751"
     },
     "execution_count": 9,
     "metadata": {},
     "output_type": "execute_result"
    }
   ],
   "source": [
    "mean = np.mean(log_target)\n",
    "mean"
   ],
   "metadata": {
    "collapsed": false,
    "pycharm": {
     "name": "#%%\n"
    }
   }
  },
  {
   "cell_type": "code",
   "execution_count": 10,
   "outputs": [
    {
     "data": {
      "text/plain": "0.6720654262321862"
     },
     "execution_count": 10,
     "metadata": {},
     "output_type": "execute_result"
    }
   ],
   "source": [
    "std = np.std(log_target)\n",
    "std"
   ],
   "metadata": {
    "collapsed": false,
    "pycharm": {
     "name": "#%%\n"
    }
   }
  },
  {
   "cell_type": "code",
   "execution_count": 11,
   "outputs": [],
   "source": [
    "np.random.seed(random_seed)"
   ],
   "metadata": {
    "collapsed": false,
    "pycharm": {
     "name": "#%%\n"
    }
   }
  },
  {
   "cell_type": "code",
   "execution_count": 17,
   "outputs": [
    {
     "data": {
      "text/plain": "(82.5846926362212, 68.17260265376233)"
     },
     "execution_count": 17,
     "metadata": {},
     "output_type": "execute_result"
    }
   ],
   "source": [
    "train[target_name].mean(), np.exp(mean)"
   ],
   "metadata": {
    "collapsed": false,
    "pycharm": {
     "name": "#%%\n"
    }
   }
  },
  {
   "cell_type": "markdown",
   "source": [
    "# Get \"Prediction\""
   ],
   "metadata": {
    "collapsed": false,
    "pycharm": {
     "name": "#%% md\n"
    }
   },
   "execution_count": 11
  },
  {
   "cell_type": "code",
   "execution_count": 12,
   "outputs": [
    {
     "data": {
      "text/plain": "(array([   3.,   26.,  183.,  967., 2309., 2965., 2169.,  858.,  201.,\n          24.]),\n array([1.30434086, 1.838778  , 2.37321513, 2.90765227, 3.44208941,\n        3.97652654, 4.51096368, 5.04540081, 5.57983795, 6.11427508,\n        6.64871222]),\n <BarContainer object of 10 artists>)"
     },
     "execution_count": 12,
     "metadata": {},
     "output_type": "execute_result"
    },
    {
     "data": {
      "text/plain": "<Figure size 432x288 with 1 Axes>",
      "image/png": "[encoded data removed]"
     },
     "metadata": {
      "needs_background": "light"
     },
     "output_type": "display_data"
    }
   ],
   "source": [
    "log_prediction = np.random.normal(loc=mean, scale=std, size=len(test))\n",
    "plt.hist(log_prediction)"
   ],
   "metadata": {
    "collapsed": false,
    "pycharm": {
     "name": "#%%\n"
    }
   }
  },
  {
   "cell_type": "code",
   "execution_count": 13,
   "outputs": [
    {
     "data": {
      "text/plain": "(array([5.793e+03, 2.859e+03, 7.000e+02, 2.290e+02, 8.100e+01, 1.900e+01,\n        1.300e+01, 8.000e+00, 1.000e+00, 2.000e+00]),\n array([  3.68525921,  80.49571206, 157.3061649 , 234.11661775,\n        310.9270706 , 387.73752345, 464.5479763 , 541.35842915,\n        618.168882  , 694.97933485, 771.7897877 ]),\n <BarContainer object of 10 artists>)"
     },
     "execution_count": 13,
     "metadata": {},
     "output_type": "execute_result"
    },
    {
     "data": {
      "text/plain": "<Figure size 432x288 with 1 Axes>",
      "image/png": "[encoded data removed]"
     },
     "metadata": {
      "needs_background": "light"
     },
     "output_type": "display_data"
    }
   ],
   "source": [
    "prediction = np.exp(log_prediction)\n",
    "plt.hist(prediction)"
   ],
   "metadata": {
    "collapsed": false,
    "pycharm": {
     "name": "#%%\n"
    }
   }
  },
  {
   "cell_type": "code",
   "execution_count": 18,
   "outputs": [],
   "source": [
    "test[target_name] = np.exp(mean)"
   ],
   "metadata": {
    "collapsed": false,
    "pycharm": {
     "name": "#%%\n"
    }
   }
  },
  {
   "cell_type": "markdown",
   "source": [
    "# Submition"
   ],
   "metadata": {
    "collapsed": false,
    "pycharm": {
     "name": "#%% md\n"
    }
   }
  },
  {
   "cell_type": "code",
   "execution_count": 19,
   "outputs": [
    {
     "data": {
      "text/plain": "         id   site_eui\n0     75757  68.172603\n1     75758  68.172603\n2     75759  68.172603\n3     75760  68.172603\n4     75761  68.172603\n...     ...        ...\n9700  85457  68.172603\n9701  85458  68.172603\n9702  85459  68.172603\n9703  85460  68.172603\n9704  85461  68.172603\n\n[9705 rows x 2 columns]",
      "text/html": "<div>\n<style scoped>\n    .dataframe tbody tr th:only-of-type {\n        vertical-align: middle;\n    }\n\n    .dataframe tbody tr th {\n        vertical-align: top;\n    }\n\n    .dataframe thead th {\n        text-align: right;\n    }\n</style>\n<table border=\"1\" class=\"dataframe\">\n  <thead>\n    <tr style=\"text-align: right;\">\n      <th></th>\n      <th>id</th>\n      <th>site_eui</th>\n    </tr>\n  </thead>\n  <tbody>\n    <tr>\n      <th>0</th>\n      <td>75757</td>\n      <td>68.172603</td>\n    </tr>\n    <tr>\n      <th>1</th>\n      <td>75758</td>\n      <td>68.172603</td>\n    </tr>\n    <tr>\n      <th>2</th>\n      <td>75759</td>\n      <td>68.172603</td>\n    </tr>\n    <tr>\n      <th>3</th>\n      <td>75760</td>\n      <td>68.172603</td>\n    </tr>\n    <tr>\n      <th>4</th>\n      <td>75761</td>\n      <td>68.172603</td>\n    </tr>\n    <tr>\n      <th>...</th>\n      <td>...</td>\n      <td>...</td>\n    </tr>\n    <tr>\n      <th>9700</th>\n      <td>85457</td>\n      <td>68.172603</td>\n    </tr>\n    <tr>\n      <th>9701</th>\n      <td>85458</td>\n      <td>68.172603</td>\n    </tr>\n    <tr>\n      <th>9702</th>\n      <td>85459</td>\n      <td>68.172603</td>\n    </tr>\n    <tr>\n      <th>9703</th>\n      <td>85460</td>\n      <td>68.172603</td>\n    </tr>\n    <tr>\n      <th>9704</th>\n      <td>85461</td>\n      <td>68.172603</td>\n    </tr>\n  </tbody>\n</table>\n<p>9705 rows × 2 columns</p>\n</div>"
     },
     "execution_count": 19,
     "metadata": {},
     "output_type": "execute_result"
    }
   ],
   "source": [
    "test[[id_name, target_name]]"
   ],
   "metadata": {
    "collapsed": false,
    "pycharm": {
     "name": "#%%\n"
    }
   }
  },
  {
   "cell_type": "code",
   "execution_count": 20,
   "outputs": [],
   "source": [
    "test[[id_name, target_name]].to_csv(data_path.joinpath('submition.csv'), index=False)"
   ],
   "metadata": {
    "collapsed": false,
    "pycharm": {
     "name": "#%%\n"
    }
   }
  },
  {
   "cell_type": "code",
   "execution_count": 16,
   "outputs": [],
   "source": [],
   "metadata": {
    "collapsed": false,
    "pycharm": {
     "name": "#%%\n"
    }
   }
  }
 ],
 "metadata": {
  "kernelspec": {
   "name": "ml_env",
   "language": "python",
   "display_name": "ml_env"
  },
  "language_info": {
   "codemirror_mode": {
    "name": "ipython",
    "version": 2
   },
   "file_extension": ".py",
   "mimetype": "text/x-python",
   "name": "python",
   "nbconvert_exporter": "python",
   "pygments_lexer": "ipython2",
   "version": "2.7.6"
  }
 },
 "nbformat": 4,
 "nbformat_minor": 0
}